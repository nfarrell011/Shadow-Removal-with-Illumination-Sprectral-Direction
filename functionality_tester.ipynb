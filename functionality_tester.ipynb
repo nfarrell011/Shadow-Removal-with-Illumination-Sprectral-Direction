{
 "cells": [
  {
   "cell_type": "code",
   "execution_count": 1,
   "metadata": {},
   "outputs": [],
   "source": [
    "from PIL import Image\n",
    "from torch.utils.data import Dataset, DataLoader\n",
    "import torchvision.transforms as transforms\n",
    "import torch\n",
    "\n",
    "import numpy as np\n",
    "import cv2\n",
    "\n",
    "import os  \n",
    "from pathlib import Path\n",
    "import sys\n",
    "\n",
    "import matplotlib.pyplot as plt\n",
    "\n",
    "from einops import rearrange\n",
    "\n",
    "import glob\n",
    "from sklearn.model_selection import train_test_split"
   ]
  },
  {
   "cell_type": "code",
   "execution_count": 2,
   "metadata": {},
   "outputs": [
    {
     "name": "stdout",
     "output_type": "stream",
     "text": [
      "/Users/nelsonfarrell/Documents/Northeastern/7180/projects/spectral_ratio\n"
     ]
    }
   ],
   "source": [
    "path = Path(os.getcwd())\n",
    "parent = path.parent\n",
    "parent = str(parent)\n",
    "path = str(path)\n",
    "print(path)\n",
    "sys.path.insert(1, path)\n",
    "sys.path.insert(1, parent)"
   ]
  },
  {
   "cell_type": "code",
   "execution_count": 3,
   "metadata": {},
   "outputs": [],
   "source": [
    "from dataloader.dataset_generator_class import ImageDatasetGenerator\n",
    "from models.CvT_model import CvT\n",
    "from angular_dist_loss.angular_dist_loss import CosineDistanceMetric"
   ]
  },
  {
   "cell_type": "code",
   "execution_count": 4,
   "metadata": {},
   "outputs": [
    {
     "name": "stdout",
     "output_type": "stream",
     "text": [
      "Actual Tensors:\n",
      " tensor([[0.0000, 0.0000, 0.0000],\n",
      "        [0.5000, 0.5000, 0.0000]])\n",
      "Predicted Tensors:\n",
      " tensor([[ 0.5000,  0.5000,  0.0000],\n",
      "        [-0.5000, -0.5000,  0.0000]])\n",
      "Cosine Similarity Map Shape: torch.Size([2])\n",
      "Cosine Similarity Map (Sample): tensor([ 0.0000, -1.0000])\n"
     ]
    }
   ],
   "source": [
    "import torch\n",
    "import torch.nn.functional as F\n",
    "\n",
    "# Create dummy image data with 3 color channels (RGB) and spatial dimensions 10x10\n",
    "height, width, channels = 10, 10, 3\n",
    "image1 = torch.randn(1, 3)  # Batch size = 1\n",
    "image2 = torch.randn(1, 3)  # Batch size = 1\n",
    "\n",
    "import torch\n",
    "\n",
    "# Define two specific tensors\n",
    "actual = torch.tensor([[0.0, 0.0, 0.0], [0.5, 0.5, 0.0]])  # Batch size = 2, each vector has 3 elements\n",
    "predicted = torch.tensor([[0.5, 0.5, 0.0], [-0.5, -0.5, 0.0]])  # Batch size = 2, each vector has 3 elements\n",
    "\n",
    "print(\"Actual Tensors:\\n\", actual)\n",
    "print(\"Predicted Tensors:\\n\", predicted)\n",
    "\n",
    "\n",
    "# Compute cosine similarity along the channel dimension (dim=1)\n",
    "cosine_similarity_map = F.cosine_similarity(actual, predicted, dim = 1)  # Shape: (1, height, width)\n",
    "\n",
    "# Inspect the result\n",
    "print(\"Cosine Similarity Map Shape:\", cosine_similarity_map.shape)\n",
    "print(\"Cosine Similarity Map (Sample):\", cosine_similarity_map)\n"
   ]
  },
  {
   "cell_type": "code",
   "execution_count": 5,
   "metadata": {},
   "outputs": [],
   "source": [
    "# Transforms -- We can add augmentations here\n",
    "transform_images = transforms.Compose([ \n",
    "                        transforms.ToTensor()       \n",
    "                        #transforms.Normalize(mean = mean, std = std)\n",
    "                                    ])\n",
    "\n",
    "transform_guidance = transforms.Compose([ \n",
    "                        transforms.ToTensor()\n",
    "                                    ])"
   ]
  },
  {
   "cell_type": "code",
   "execution_count": 6,
   "metadata": {},
   "outputs": [
    {
     "name": "stdout",
     "output_type": "stream",
     "text": [
      "Assertion Passed!!! We have the same number of images and ISD maps.\n",
      "Assertion Passed!!! We have the same number of images and ISD maps.\n",
      "Assertion Passed!!! We have the same number of images and ISD maps.\n"
     ]
    }
   ],
   "source": [
    "# Folder paths\n",
    "image_folder = \"/Users/nelsonfarrell/Documents/Northeastern/7180/projects/spectral_ratio/training_data/training_images_cropped\"\n",
    "isd_map_folder = \"/Users/nelsonfarrell/Documents/Northeastern/7180/projects/spectral_ratio/training_data/training_isds_cropped\"\n",
    "\n",
    "# Create dataset\n",
    "dataset = ImageDatasetGenerator(image_folder, \n",
    "                                isd_map_folder, \n",
    "                                split = None, \n",
    "                                val_size = 0.2, \n",
    "                                random_seed = 42, \n",
    "                                transform_images = transform_images, \n",
    "                                transform_guidance = transform_guidance)\n",
    "\n",
    "# Create dataset\n",
    "train_dataset = ImageDatasetGenerator(image_folder, \n",
    "                                      isd_map_folder, \n",
    "                                      split = \"train\", \n",
    "                                      val_size = 0.2, \n",
    "                                      random_seed = 42, \n",
    "                                      transform_images = transform_images, \n",
    "                                      transform_guidance = transform_guidance)\n",
    "\n",
    "# Create dataset\n",
    "val_dataset = ImageDatasetGenerator(image_folder, \n",
    "                                    isd_map_folder, \n",
    "                                    split = \"val\", \n",
    "                                    val_size = 0.2, \n",
    "                                    random_seed = 42, \n",
    "                                    transform_images = transform_images, \n",
    "                                    transform_guidance = transform_guidance)\n",
    "\n",
    "# Create dataloader\n",
    "# Shuffle equals false for now for testing\n",
    "# drop last creates only full batches\n",
    "dataloader = DataLoader(val_dataset, batch_size = 4, shuffle = False, drop_last = True)"
   ]
  },
  {
   "cell_type": "code",
   "execution_count": 7,
   "metadata": {},
   "outputs": [
    {
     "name": "stdout",
     "output_type": "stream",
     "text": [
      "Entering embedding: Patch Size: 7 -- Stride: 4 -- Embedding Dims 64\n",
      "Entering embedding: Patch Size: 3 -- Stride: 2 -- Embedding Dims 192\n",
      "Entering embedding: Patch Size: 3 -- Stride: 2 -- Embedding Dims 384\n"
     ]
    }
   ],
   "source": [
    "device = 'cuda' if torch.cuda.is_available() else 'cpu'  \n",
    "embed_size = 64\n",
    "num_class = 10\n",
    "model = CvT(embed_size).to(device)"
   ]
  },
  {
   "cell_type": "code",
   "execution_count": 8,
   "metadata": {},
   "outputs": [
    {
     "name": "stdout",
     "output_type": "stream",
     "text": [
      "Epoch 1/10\n"
     ]
    },
    {
     "name": "stderr",
     "output_type": "stream",
     "text": [
      "Training:   0%|          | 0/429 [00:00<?, ?it/s]"
     ]
    },
    {
     "name": "stdout",
     "output_type": "stream",
     "text": [
      "Stage 1: Shape x: torch.Size([4, 64, 55, 55])\n",
      "Stage 2: Shape x: torch.Size([4, 192, 27, 27])\n",
      "Stage 3: Shape x: torch.Size([4, 384, 13, 13])\n",
      "Loss: 1.184691309928894\n"
     ]
    },
    {
     "name": "stderr",
     "output_type": "stream",
     "text": [
      "Training:   0%|          | 1/429 [00:01<10:57,  1.54s/it]"
     ]
    },
    {
     "name": "stdout",
     "output_type": "stream",
     "text": [
      "Stage 1: Shape x: torch.Size([4, 64, 55, 55])\n",
      "Stage 2: Shape x: torch.Size([4, 192, 27, 27])\n",
      "Stage 3: Shape x: torch.Size([4, 384, 13, 13])\n",
      "Loss: 0.889155924320221\n"
     ]
    },
    {
     "name": "stderr",
     "output_type": "stream",
     "text": [
      "Training:   0%|          | 2/429 [00:02<09:14,  1.30s/it]"
     ]
    },
    {
     "name": "stdout",
     "output_type": "stream",
     "text": [
      "Stage 1: Shape x: torch.Size([4, 64, 55, 55])\n",
      "Stage 2: Shape x: torch.Size([4, 192, 27, 27])\n",
      "Stage 3: Shape x: torch.Size([4, 384, 13, 13])\n",
      "Loss: 1.0185024738311768\n"
     ]
    },
    {
     "name": "stderr",
     "output_type": "stream",
     "text": [
      "Training:   1%|          | 3/429 [00:03<08:47,  1.24s/it]"
     ]
    },
    {
     "name": "stdout",
     "output_type": "stream",
     "text": [
      "Stage 1: Shape x: torch.Size([4, 64, 55, 55])\n",
      "Stage 2: Shape x: torch.Size([4, 192, 27, 27])\n",
      "Stage 3: Shape x: torch.Size([4, 384, 13, 13])\n",
      "Loss: 0.9502613544464111\n"
     ]
    },
    {
     "name": "stderr",
     "output_type": "stream",
     "text": [
      "Training:   1%|          | 4/429 [00:04<08:25,  1.19s/it]"
     ]
    },
    {
     "name": "stdout",
     "output_type": "stream",
     "text": [
      "Stage 1: Shape x: torch.Size([4, 64, 55, 55])\n",
      "Stage 2: Shape x: torch.Size([4, 192, 27, 27])\n",
      "Stage 3: Shape x: torch.Size([4, 384, 13, 13])\n",
      "Loss: 1.1776190996170044\n"
     ]
    },
    {
     "name": "stderr",
     "output_type": "stream",
     "text": [
      "Training:   1%|          | 5/429 [00:06<08:17,  1.17s/it]"
     ]
    },
    {
     "name": "stdout",
     "output_type": "stream",
     "text": [
      "Stage 1: Shape x: torch.Size([4, 64, 55, 55])\n",
      "Stage 2: Shape x: torch.Size([4, 192, 27, 27])\n",
      "Stage 3: Shape x: torch.Size([4, 384, 13, 13])\n",
      "Loss: 0.998781681060791\n"
     ]
    },
    {
     "name": "stderr",
     "output_type": "stream",
     "text": [
      "Training:   1%|▏         | 6/429 [00:07<08:13,  1.17s/it]"
     ]
    },
    {
     "name": "stdout",
     "output_type": "stream",
     "text": [
      "Stage 1: Shape x: torch.Size([4, 64, 55, 55])\n",
      "Stage 2: Shape x: torch.Size([4, 192, 27, 27])\n",
      "Stage 3: Shape x: torch.Size([4, 384, 13, 13])\n",
      "Loss: 0.9020794630050659\n"
     ]
    },
    {
     "name": "stderr",
     "output_type": "stream",
     "text": [
      "Training:   2%|▏         | 7/429 [00:08<09:05,  1.29s/it]"
     ]
    },
    {
     "name": "stdout",
     "output_type": "stream",
     "text": [
      "Stage 1: Shape x: torch.Size([4, 64, 55, 55])\n",
      "Stage 2: Shape x: torch.Size([4, 192, 27, 27])\n",
      "Stage 3: Shape x: torch.Size([4, 384, 13, 13])\n",
      "Loss: 0.9272293448448181\n"
     ]
    },
    {
     "name": "stderr",
     "output_type": "stream",
     "text": [
      "Training:   2%|▏         | 8/429 [00:09<08:42,  1.24s/it]"
     ]
    },
    {
     "name": "stdout",
     "output_type": "stream",
     "text": [
      "Stage 1: Shape x: torch.Size([4, 64, 55, 55])\n",
      "Stage 2: Shape x: torch.Size([4, 192, 27, 27])\n",
      "Stage 3: Shape x: torch.Size([4, 384, 13, 13])\n",
      "Loss: 0.9819390177726746\n"
     ]
    },
    {
     "name": "stderr",
     "output_type": "stream",
     "text": [
      "Training:   2%|▏         | 9/429 [00:11<08:25,  1.20s/it]"
     ]
    },
    {
     "name": "stdout",
     "output_type": "stream",
     "text": [
      "Stage 1: Shape x: torch.Size([4, 64, 55, 55])\n",
      "Stage 2: Shape x: torch.Size([4, 192, 27, 27])\n",
      "Stage 3: Shape x: torch.Size([4, 384, 13, 13])\n",
      "Loss: 0.9353978633880615\n"
     ]
    },
    {
     "name": "stderr",
     "output_type": "stream",
     "text": [
      "Training:   2%|▏         | 10/429 [00:12<08:07,  1.16s/it]"
     ]
    },
    {
     "name": "stdout",
     "output_type": "stream",
     "text": [
      "Stage 1: Shape x: torch.Size([4, 64, 55, 55])\n",
      "Stage 2: Shape x: torch.Size([4, 192, 27, 27])\n",
      "Stage 3: Shape x: torch.Size([4, 384, 13, 13])\n",
      "Loss: 1.1723283529281616\n"
     ]
    },
    {
     "name": "stderr",
     "output_type": "stream",
     "text": [
      "Training:   3%|▎         | 11/429 [00:13<07:58,  1.14s/it]"
     ]
    },
    {
     "name": "stdout",
     "output_type": "stream",
     "text": [
      "Stage 1: Shape x: torch.Size([4, 64, 55, 55])\n",
      "Stage 2: Shape x: torch.Size([4, 192, 27, 27])\n",
      "Stage 3: Shape x: torch.Size([4, 384, 13, 13])\n",
      "Loss: 1.0175704956054688\n"
     ]
    },
    {
     "name": "stderr",
     "output_type": "stream",
     "text": [
      "Training:   3%|▎         | 12/429 [00:14<07:49,  1.13s/it]"
     ]
    },
    {
     "name": "stdout",
     "output_type": "stream",
     "text": [
      "Stage 1: Shape x: torch.Size([4, 64, 55, 55])\n",
      "Stage 2: Shape x: torch.Size([4, 192, 27, 27])\n",
      "Stage 3: Shape x: torch.Size([4, 384, 13, 13])\n",
      "Loss: 1.1830472946166992\n"
     ]
    },
    {
     "name": "stderr",
     "output_type": "stream",
     "text": [
      "Training:   3%|▎         | 13/429 [00:15<07:44,  1.12s/it]"
     ]
    },
    {
     "name": "stdout",
     "output_type": "stream",
     "text": [
      "Stage 1: Shape x: torch.Size([4, 64, 55, 55])\n",
      "Stage 2: Shape x: torch.Size([4, 192, 27, 27])\n",
      "Stage 3: Shape x: torch.Size([4, 384, 13, 13])\n",
      "Loss: 1.003121256828308\n"
     ]
    },
    {
     "name": "stderr",
     "output_type": "stream",
     "text": [
      "Training:   3%|▎         | 14/429 [00:16<07:37,  1.10s/it]"
     ]
    },
    {
     "name": "stdout",
     "output_type": "stream",
     "text": [
      "Stage 1: Shape x: torch.Size([4, 64, 55, 55])\n",
      "Stage 2: Shape x: torch.Size([4, 192, 27, 27])\n",
      "Stage 3: Shape x: torch.Size([4, 384, 13, 13])\n",
      "Loss: 1.0988378524780273\n"
     ]
    },
    {
     "name": "stderr",
     "output_type": "stream",
     "text": [
      "Training:   3%|▎         | 15/429 [00:17<07:35,  1.10s/it]"
     ]
    },
    {
     "name": "stdout",
     "output_type": "stream",
     "text": [
      "Stage 1: Shape x: torch.Size([4, 64, 55, 55])\n",
      "Stage 2: Shape x: torch.Size([4, 192, 27, 27])\n",
      "Stage 3: Shape x: torch.Size([4, 384, 13, 13])\n",
      "Loss: 0.9216673970222473\n"
     ]
    },
    {
     "name": "stderr",
     "output_type": "stream",
     "text": [
      "Training:   4%|▎         | 16/429 [00:18<07:32,  1.10s/it]"
     ]
    },
    {
     "name": "stdout",
     "output_type": "stream",
     "text": [
      "Stage 1: Shape x: torch.Size([4, 64, 55, 55])\n",
      "Stage 2: Shape x: torch.Size([4, 192, 27, 27])\n",
      "Stage 3: Shape x: torch.Size([4, 384, 13, 13])\n",
      "Loss: 1.3400294780731201\n"
     ]
    },
    {
     "name": "stderr",
     "output_type": "stream",
     "text": [
      "Training:   4%|▍         | 17/429 [00:19<07:36,  1.11s/it]"
     ]
    },
    {
     "name": "stdout",
     "output_type": "stream",
     "text": [
      "Stage 1: Shape x: torch.Size([4, 64, 55, 55])\n",
      "Stage 2: Shape x: torch.Size([4, 192, 27, 27])\n",
      "Stage 3: Shape x: torch.Size([4, 384, 13, 13])\n",
      "Loss: 0.9898902177810669\n"
     ]
    },
    {
     "name": "stderr",
     "output_type": "stream",
     "text": [
      "Training:   4%|▍         | 18/429 [00:20<07:36,  1.11s/it]"
     ]
    },
    {
     "name": "stdout",
     "output_type": "stream",
     "text": [
      "Stage 1: Shape x: torch.Size([4, 64, 55, 55])\n",
      "Stage 2: Shape x: torch.Size([4, 192, 27, 27])\n",
      "Stage 3: Shape x: torch.Size([4, 384, 13, 13])\n",
      "Loss: 1.1045901775360107\n"
     ]
    },
    {
     "name": "stderr",
     "output_type": "stream",
     "text": [
      "Training:   4%|▍         | 19/429 [00:22<07:34,  1.11s/it]"
     ]
    },
    {
     "name": "stdout",
     "output_type": "stream",
     "text": [
      "Stage 1: Shape x: torch.Size([4, 64, 55, 55])\n",
      "Stage 2: Shape x: torch.Size([4, 192, 27, 27])\n",
      "Stage 3: Shape x: torch.Size([4, 384, 13, 13])\n",
      "Loss: 1.0321611166000366\n"
     ]
    },
    {
     "name": "stderr",
     "output_type": "stream",
     "text": [
      "Training:   5%|▍         | 20/429 [00:23<07:32,  1.11s/it]"
     ]
    },
    {
     "name": "stdout",
     "output_type": "stream",
     "text": [
      "Stage 1: Shape x: torch.Size([4, 64, 55, 55])\n",
      "Stage 2: Shape x: torch.Size([4, 192, 27, 27])\n",
      "Stage 3: Shape x: torch.Size([4, 384, 13, 13])\n",
      "Loss: 1.007040023803711\n"
     ]
    },
    {
     "name": "stderr",
     "output_type": "stream",
     "text": [
      "Training:   5%|▍         | 21/429 [00:24<07:33,  1.11s/it]"
     ]
    },
    {
     "name": "stdout",
     "output_type": "stream",
     "text": [
      "Stage 1: Shape x: torch.Size([4, 64, 55, 55])\n",
      "Stage 2: Shape x: torch.Size([4, 192, 27, 27])\n",
      "Stage 3: Shape x: torch.Size([4, 384, 13, 13])\n",
      "Loss: 0.9522303938865662\n"
     ]
    },
    {
     "name": "stderr",
     "output_type": "stream",
     "text": [
      "Training:   5%|▌         | 22/429 [00:25<07:31,  1.11s/it]"
     ]
    },
    {
     "name": "stdout",
     "output_type": "stream",
     "text": [
      "Stage 1: Shape x: torch.Size([4, 64, 55, 55])\n",
      "Stage 2: Shape x: torch.Size([4, 192, 27, 27])\n",
      "Stage 3: Shape x: torch.Size([4, 384, 13, 13])\n",
      "Loss: 0.9943994879722595\n"
     ]
    },
    {
     "name": "stderr",
     "output_type": "stream",
     "text": [
      "Training:   5%|▌         | 23/429 [00:26<07:29,  1.11s/it]"
     ]
    },
    {
     "name": "stdout",
     "output_type": "stream",
     "text": [
      "Stage 1: Shape x: torch.Size([4, 64, 55, 55])\n",
      "Stage 2: Shape x: torch.Size([4, 192, 27, 27])\n",
      "Stage 3: Shape x: torch.Size([4, 384, 13, 13])\n",
      "Loss: 1.0035547018051147\n"
     ]
    },
    {
     "name": "stderr",
     "output_type": "stream",
     "text": [
      "Training:   6%|▌         | 24/429 [00:27<07:27,  1.11s/it]"
     ]
    },
    {
     "name": "stdout",
     "output_type": "stream",
     "text": [
      "Stage 1: Shape x: torch.Size([4, 64, 55, 55])\n",
      "Stage 2: Shape x: torch.Size([4, 192, 27, 27])\n",
      "Stage 3: Shape x: torch.Size([4, 384, 13, 13])\n",
      "Loss: 0.8979801535606384\n"
     ]
    },
    {
     "name": "stderr",
     "output_type": "stream",
     "text": [
      "Training:   6%|▌         | 25/429 [00:28<07:30,  1.11s/it]"
     ]
    },
    {
     "name": "stdout",
     "output_type": "stream",
     "text": [
      "Stage 1: Shape x: torch.Size([4, 64, 55, 55])\n",
      "Stage 2: Shape x: torch.Size([4, 192, 27, 27])\n"
     ]
    }
   ],
   "source": [
    "import torch\n",
    "from torch.utils.data import DataLoader\n",
    "import torch.nn as nn\n",
    "import torch.optim as optim\n",
    "from tqdm import tqdm\n",
    "\n",
    "# Parameters\n",
    "device = 'cuda' if torch.cuda.is_available() else 'cpu'\n",
    "num_epochs = 10\n",
    "learning_rate = 0.001\n",
    "batch_size = 4\n",
    "\n",
    "# Define loss function and optimizer\n",
    "criterion = CosineDistanceMetric(reduce = False)  \n",
    "optimizer = optim.Adam(model.parameters(), lr=learning_rate)\n",
    "\n",
    "# Training Loop\n",
    "for epoch in range(num_epochs):\n",
    "    print(f\"Epoch {epoch + 1}/{num_epochs}\")\n",
    "    model.train()\n",
    "    train_loss = 0.0\n",
    "\n",
    "    # Training Step\n",
    "    train_loader = DataLoader(train_dataset, batch_size=batch_size, shuffle=True, drop_last=True)\n",
    "    for batch in tqdm(train_loader, desc=\"Training\"):\n",
    "        images, guidance_maps = batch\n",
    "        images, guidance_maps = images.to(device), guidance_maps.to(device)\n",
    "\n",
    "        # Forward pass\n",
    "        outputs = model(images)\n",
    "\n",
    "        # Compute loss\n",
    "        loss = criterion(outputs, guidance_maps)\n",
    "        print(\"Loss:\", loss.item())\n",
    "\n",
    "        # Backward pass\n",
    "        optimizer.zero_grad()\n",
    "        loss.backward()\n",
    "        optimizer.step()\n",
    "\n",
    "        train_loss += loss.item()\n",
    "\n",
    "    train_loss /= len(train_loader)\n",
    "    print(f\"Training Loss: {train_loss:.4f}\")\n",
    "\n",
    "    # Validation Step\n",
    "    model.eval()\n",
    "    val_loss = 0.0\n",
    "    val_loader = DataLoader(val_dataset, batch_size=batch_size, shuffle=False, drop_last=True)\n",
    "    with torch.no_grad():\n",
    "        for batch in tqdm(val_loader, desc=\"Validation\"):\n",
    "            images, guidance_maps = batch\n",
    "            images, guidance_maps = images.to(device), guidance_maps.to(device)\n",
    "\n",
    "            # Forward pass\n",
    "            outputs = model(images)\n",
    "\n",
    "            # Compute loss\n",
    "            loss = criterion(outputs, guidance_maps)\n",
    "            val_loss += loss.item()\n",
    "\n",
    "    val_loss /= len(val_loader)\n",
    "    print(f\"Validation Loss: {val_loss:.4f}\")\n",
    "\n",
    "print(\"Training Complete!\")\n"
   ]
  },
  {
   "cell_type": "code",
   "execution_count": 7,
   "metadata": {},
   "outputs": [
    {
     "name": "stdout",
     "output_type": "stream",
     "text": [
      "torch.Size([10, 3, 74, 74])\n",
      "torch.Size([10, 16428])\n"
     ]
    }
   ],
   "source": [
    "import torch\n",
    "\n",
    "input_ = torch.ones((10, 3, 74, 74))\n",
    "\n",
    "print(input_.shape)\n",
    "# torch.Size([10, 1, 74, 74])\n",
    "\n",
    "flattened_input = input_.view(10, -1)\n",
    "\n",
    "print(flattened_input.shape)\n",
    "# torch.Size([10, 5476])\n",
    "\n"
   ]
  }
 ],
 "metadata": {
  "kernelspec": {
   "display_name": "base",
   "language": "python",
   "name": "python3"
  },
  "language_info": {
   "codemirror_mode": {
    "name": "ipython",
    "version": 3
   },
   "file_extension": ".py",
   "mimetype": "text/x-python",
   "name": "python",
   "nbconvert_exporter": "python",
   "pygments_lexer": "ipython3",
   "version": "3.11.8"
  },
  "orig_nbformat": 4,
  "vscode": {
   "interpreter": {
    "hash": "b31d6a8ecfd6b48ec0cf9da67896692b418c4a39f70d4f1a3880fdc530a94b5e"
   }
  }
 },
 "nbformat": 4,
 "nbformat_minor": 2
}
